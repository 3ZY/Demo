{
 "cells": [
  {
   "cell_type": "code",
   "execution_count": 1,
   "metadata": {},
   "outputs": [],
   "source": [
    "import time\n",
    "import math\n",
    "import numpy as np\n",
    "import pandas as pd\n",
    "import matplotlib.pyplot as plt\n",
    "from sklearn import metrics\n",
    "from sklearn.model_selection import cross_val_score\n",
    "from sklearn.metrics import recall_score\n",
    "from sklearn.metrics import precision_score\n",
    "from sklearn.metrics import f1_score\n",
    "from sklearn.metrics import roc_curve\n",
    "from sklearn.metrics import roc_auc_score,auc\n",
    "from sklearn.model_selection import train_test_split\n",
    "import seaborn as sns"
   ]
  },
  {
   "cell_type": "code",
   "execution_count": 2,
   "metadata": {},
   "outputs": [],
   "source": [
    "#通过pandas的sample函数实现下采样\n",
    "def lower_sample_data_by_sample(df,percent=1):\n",
    "    most_data = df[df['late_days'] == 0]  # 多数类别的样本\n",
    "    minority_data = df[df['late_days'] == 1]  # 少数类别的样本   \n",
    "    #随机采样most_data中的数据\n",
    "    lower_data=most_data.sample(n=int(percent*len(minority_data)),replace=False,random_state=0,axis=0)   \n",
    "    return (pd.concat([lower_data,minority_data]))"
   ]
  },
  {
   "cell_type": "code",
   "execution_count": 125,
   "metadata": {},
   "outputs": [],
   "source": [
    "df_1=pd.read_csv('aku_synchronous_credit_first_cash_loan_more_feature_gp.csv').round(4)\n",
    "df_2=pd.read_csv('not_aku_synchronous_credit_first_cash_loan_more_feature_gp.csv').round(4)"
   ]
  },
  {
   "cell_type": "code",
   "execution_count": 126,
   "metadata": {},
   "outputs": [
    {
     "data": {
      "text/plain": [
       "(67793, 61)"
      ]
     },
     "execution_count": 126,
     "metadata": {},
     "output_type": "execute_result"
    }
   ],
   "source": [
    "df_1=df_1[['uid','phone_num', 'features_incr_record_days',\n",
    "       'features_incr_total_page_op_page_rate', 'features_incr_total_action',\n",
    "       'features_incr_total_session', 'features_incr_total_action_rate',\n",
    "       'features_incr_total_page_action_rate', 'features_incr_avg_w9',\n",
    "       'features_incr_total_w2_15d', 'features_incr_total_w2_3d',\n",
    "       'features_incr_total_w2_7d_div_15d',\n",
    "       'ual_dws_total_record', 'device_id_if_change', 'is_rooted',\n",
    "       'sim_imsi_uid_num', 'longitude_sub', 'latitude_sub',\n",
    "       'hardware_total_record','user_education', 'user_own_house',\n",
    "       'user_relation', 'user_working_time_level', 'user_month_income_level',\n",
    "       'login_dev_cnt_15d', 'login_dev_cnt_30d', 'login_dev_cnt_90d',\n",
    "       'login_before_login_cnt', 'login_login_cnt_60d', 'login_login_cnt_90d',\n",
    "       'app_install_num_30d', \n",
    "       'app_install_Food_App_num_30d',\n",
    "       'app_install_Health_App_num_30d',\n",
    "       'app_install_Sports_App_num_30d',\n",
    "       'app_install_Educational_App_num_30d',\n",
    "       'app_install_Travel_App_num_30d', 'app_install_Books_App_num_30d',\n",
    "       'app_install_News_App_num_30d', 'app_install_Video_App_num_30d',\n",
    "       'app_install_Social_App_num_30d',\n",
    "       'app_install_Casino_App_ratio_30d',\n",
    "       'app_install_Card_App_ratio_30d', 'app_install_Food_App_ratio_30d',\n",
    "       'app_install_Health_App_ratio_30d',\n",
    "       'app_install_Sports_App_ratio_30d',\n",
    "       'app_install_Educational_App_ratio_30d',\n",
    "       'app_install_Travel_App_ratio_30d',\n",
    "       'app_install_Books_App_ratio_30d',\n",
    "       'app_install_News_App_ratio_30d',\n",
    "       'app_install_Video_App_ratio_30d',\n",
    "       'app_install_Social_App_ratio_30d', 'app_install_ty_num_30d', 'app_install_l1_num_30d',\n",
    "       'app_install_l2_num_30d', 'app_install_l3_num_30d',\n",
    "       'app_install_l4_num_30d', 'app_install_l5_num_30d',\n",
    "       'late_days', 'year', 'month','day']]\n",
    "df_1.loc[df_1.late_days<=15,'late_days'] = 0\n",
    "df_1.loc[df_1.late_days>15,'late_days'] = 1\n",
    "df_1.shape"
   ]
  },
  {
   "cell_type": "code",
   "execution_count": 127,
   "metadata": {},
   "outputs": [
    {
     "data": {
      "text/plain": [
       "(1144594, 61)"
      ]
     },
     "execution_count": 127,
     "metadata": {},
     "output_type": "execute_result"
    }
   ],
   "source": [
    "df_2=df_2[['uid','phone_num', 'features_incr_record_days',\n",
    "       'features_incr_total_page_op_page_rate', 'features_incr_total_action',\n",
    "       'features_incr_total_session', 'features_incr_total_action_rate',\n",
    "       'features_incr_total_page_action_rate', 'features_incr_avg_w9',\n",
    "       'features_incr_total_w2_15d', 'features_incr_total_w2_3d',\n",
    "       'features_incr_total_w2_7d_div_15d',\n",
    "       'ual_dws_total_record', 'device_id_if_change', 'is_rooted',\n",
    "       'sim_imsi_uid_num', 'longitude_sub', 'latitude_sub',\n",
    "       'hardware_total_record','user_education', 'user_own_house',\n",
    "       'user_relation', 'user_working_time_level', 'user_month_income_level',\n",
    "       'login_dev_cnt_15d', 'login_dev_cnt_30d', 'login_dev_cnt_90d',\n",
    "       'login_before_login_cnt', 'login_login_cnt_60d', 'login_login_cnt_90d',\n",
    "       'app_install_num_30d', \n",
    "       'app_install_Food_App_num_30d',\n",
    "       'app_install_Health_App_num_30d',\n",
    "       'app_install_Sports_App_num_30d',\n",
    "       'app_install_Educational_App_num_30d',\n",
    "       'app_install_Travel_App_num_30d', 'app_install_Books_App_num_30d',\n",
    "       'app_install_News_App_num_30d', 'app_install_Video_App_num_30d',\n",
    "       'app_install_Social_App_num_30d',\n",
    "       'app_install_Casino_App_ratio_30d',\n",
    "       'app_install_Card_App_ratio_30d', 'app_install_Food_App_ratio_30d',\n",
    "       'app_install_Health_App_ratio_30d',\n",
    "       'app_install_Sports_App_ratio_30d',\n",
    "       'app_install_Educational_App_ratio_30d',\n",
    "       'app_install_Travel_App_ratio_30d',\n",
    "       'app_install_Books_App_ratio_30d',\n",
    "       'app_install_News_App_ratio_30d',\n",
    "       'app_install_Video_App_ratio_30d',\n",
    "       'app_install_Social_App_ratio_30d', 'app_install_ty_num_30d', 'app_install_l1_num_30d',\n",
    "       'app_install_l2_num_30d', 'app_install_l3_num_30d',\n",
    "       'app_install_l4_num_30d', 'app_install_l5_num_30d',\n",
    "       'late_days', 'year', 'month','day']]\n",
    "df_2.loc[df_2.late_days<=15,'late_days'] = 0\n",
    "df_2.loc[df_2.late_days>15,'late_days'] = 1\n",
    "df_2.shape"
   ]
  },
  {
   "cell_type": "code",
   "execution_count": 128,
   "metadata": {},
   "outputs": [
    {
     "name": "stdout",
     "output_type": "stream",
     "text": [
      "(361255, 61) (11758, 61) (9589, 61) (2169, 61)\n"
     ]
    }
   ],
   "source": [
    "train_data_1=df_1.loc[ ((df_2.year==2019)&(df_2.month.isin([11,12])))|((df_1.year==2020)&(df_1.month.isin([1])))| ((df_1.year==2020)&(df_1.month.isin([2]))&(df_1.day.isin([i for i in range(1,1)])))]\n",
    "train_data_2=df_2.loc[ ((df_2.year==2019)&(df_2.month.isin([11,12])))|((df_2.year==2020)&(df_2.month.isin([1])))]\n",
    "train_data = pd.concat([train_data_1,train_data_2])\n",
    "#train_data=lower_sample_data_by_sample(train_data)\n",
    "test_data=df_1.loc[(df_1.year==2020)&(df_1.month==2)&(df_1.day.isin([i for i in range(1,15)]))]\n",
    "train_Y=train_data['late_days']\n",
    "test_Y=test_data['late_days']\n",
    "train_X=train_data.drop(['uid','late_days','month','year','day'],axis=1)\n",
    "test_X=test_data.drop(['uid','late_days','month','year','day'],axis=1)\n",
    "print(train_data.shape,test_data.shape,test_data.loc[test_data.late_days==0].shape,test_data.loc[test_data.late_days==1].shape)"
   ]
  },
  {
   "cell_type": "code",
   "execution_count": 129,
   "metadata": {},
   "outputs": [],
   "source": [
    "#train_data.loc[(train_data.late_days==1)&(train_data.uid.isin(train_data_1.uid.values))].shape"
   ]
  },
  {
   "cell_type": "code",
   "execution_count": 130,
   "metadata": {},
   "outputs": [],
   "source": [
    "#train_data.loc[train_data.uid.isin(train_data_1.uid.values)].shape"
   ]
  },
  {
   "cell_type": "code",
   "execution_count": 131,
   "metadata": {},
   "outputs": [
    {
     "name": "stdout",
     "output_type": "stream",
     "text": [
      "0.5647340521238461\n",
      "0.5811362476611669\n",
      "recall_score: 0.6532964499769479\n",
      "precision_score: 0.2534883720930233\n",
      "f1_score: 0.365253254285346\n",
      "ks: 0.22196403103467688\n",
      "auc: 0.6489855225902624\n",
      "label=0 recall_score: 0.5648138492022109\n",
      "label=0 precision_score: 0.8780804150453956\n"
     ]
    }
   ],
   "source": [
    "from xgboost import XGBClassifier\n",
    "#clf = XGBClassifier(learning_rate=0.1, max_depth=3, min_child_weight=10, n_estimators=1000, subsample=0.8,random_state=0)\n",
    "clf = XGBClassifier(learning_rate=0.1, max_depth=3, min_child_weight=10, n_estimators=4500, subsample=0.8,random_state=0,scale_pos_weight=5)\n",
    "clf.fit(train_X,train_Y)\n",
    "print(clf.score(train_X,train_Y))\n",
    "print(clf.score(test_X,test_Y))\n",
    "predict_Y=clf.predict(test_X)\n",
    "print(\"recall_score:\",recall_score(test_Y,predict_Y))\n",
    "print(\"precision_score:\",precision_score(test_Y,predict_Y))\n",
    "print(\"f1_score:\",f1_score(test_Y,predict_Y))\n",
    "score_Y=clf.predict_proba(test_X)[:,1]\n",
    "fpr,tpr,_=roc_curve(test_Y.ravel(),score_Y)\n",
    "print(\"ks:\",max(tpr-fpr)) #ks\n",
    "print(\"auc:\",roc_auc_score(test_Y,score_Y))\n",
    "print(\"label=0 recall_score:\",sum((test_Y==0)&(predict_Y==0))/ test_data.loc[test_data.late_days==0].shape[0]) #recall_score\n",
    "print(\"label=0 precision_score:\",sum((test_Y==0)&(predict_Y==0))/ sum(predict_Y==0)) #precision_score"
   ]
  },
  {
   "cell_type": "code",
   "execution_count": 132,
   "metadata": {},
   "outputs": [
    {
     "name": "stdout",
     "output_type": "stream",
     "text": [
      "0.5860849056603774\n",
      "(7632, 61) (6210, 61) (1422, 61)\n",
      "ks: 0.21638843025744509\n",
      "auc: 0.6387506766229323\n"
     ]
    }
   ],
   "source": [
    "test_data=df_1.loc[(df_1.year==2020)&(df_1.month==2)&(df_1.day.isin([i for i in range(15,30)]))]\n",
    "test_Y=test_data['late_days']\n",
    "test_X=test_data.drop(['uid','late_days','month','year','day'],axis=1)\n",
    "print(clf.score(test_X,test_Y))\n",
    "print(test_data.shape,test_data.loc[test_data.late_days==0].shape,test_data.loc[test_data.late_days==1].shape)\n",
    "score_Y=clf.predict_proba(test_X)[:,1]\n",
    "fpr,tpr,_=roc_curve(test_Y.ravel(),score_Y)\n",
    "print(\"ks:\",max(tpr-fpr)) #ks\n",
    "print(\"auc:\",roc_auc_score(test_Y,score_Y))"
   ]
  },
  {
   "cell_type": "code",
   "execution_count": 133,
   "metadata": {},
   "outputs": [
    {
     "name": "stdout",
     "output_type": "stream",
     "text": [
      "ks: 0.260857071415595\n",
      "auc: 0.6949272562624359\n"
     ]
    }
   ],
   "source": [
    "score_Y=clf.predict_proba(train_X)[:,1]\n",
    "fpr,tpr,_=roc_curve(train_Y.ravel(),score_Y)\n",
    "print(\"ks:\",max(tpr-fpr)) #ks\n",
    "print(\"auc:\",roc_auc_score(train_Y,score_Y))"
   ]
  },
  {
   "cell_type": "code",
   "execution_count": 134,
   "metadata": {},
   "outputs": [
    {
     "name": "stdout",
     "output_type": "stream",
     "text": [
      "(380645, 61) (319599, 61) (61046, 61)\n",
      "ks: 0.2577516648798568\n",
      "auc: 0.6918213749154781\n"
     ]
    }
   ],
   "source": [
    "test_data=df_1.loc[(df_1.year==2020)&(df_1.month==2)&(df_1.day.isin([i for i in range(1,30)]))]\n",
    "test_data = pd.concat([train_data,test_data])\n",
    "test_Y=test_data['late_days']\n",
    "test_X=test_data.drop(['uid','late_days','month','year','day'],axis=1)\n",
    "print(test_data.shape,test_data.loc[test_data.late_days==0].shape,test_data.loc[test_data.late_days==1].shape)\n",
    "score_Y=clf.predict_proba(test_X)[:,1]\n",
    "fpr,tpr,_=roc_curve(test_Y.ravel(),score_Y)\n",
    "print(\"ks:\",max(tpr-fpr)) #ks\n",
    "print(\"auc:\",roc_auc_score(test_Y,score_Y))"
   ]
  },
  {
   "cell_type": "code",
   "execution_count": 14,
   "metadata": {},
   "outputs": [
    {
     "data": {
      "text/plain": [
       "<matplotlib.axes._subplots.AxesSubplot at 0x7f88017b8b70>"
      ]
     },
     "execution_count": 14,
     "metadata": {},
     "output_type": "execute_result"
    },
    {
     "data": {
      "image/png": "[encoded data removed]",
      "text/plain": [
       "<Figure size 720x720 with 1 Axes>"
      ]
     },
     "metadata": {
      "needs_background": "light"
     },
     "output_type": "display_data"
    }
   ],
   "source": [
    "import xgboost as xgb\n",
    "fig, ax = plt.subplots(1,1,figsize=(10,10))\n",
    "xgb.plot_importance(clf.get_booster(), max_num_features=100, ax=ax)"
   ]
  },
  {
   "cell_type": "code",
   "execution_count": 15,
   "metadata": {},
   "outputs": [
    {
     "data": {
      "text/plain": [
       "array([0.13046338, 0.01068949, 0.0141931 , 0.01232977, 0.00978923,\n",
       "       0.01027628, 0.01074249, 0.01362864, 0.01178573, 0.01089009,\n",
       "       0.01419147, 0.05349817, 0.0074812 , 0.01007002, 0.02643412,\n",
       "       0.02052864, 0.01826362, 0.0124452 , 0.0649456 , 0.0484813 ,\n",
       "       0.02925648, 0.01295127, 0.01022194, 0.01279891, 0.01168713,\n",
       "       0.00485954, 0.01113746, 0.00883645, 0.00804184, 0.0192909 ,\n",
       "       0.        , 0.01334162, 0.        , 0.        , 0.04312293,\n",
       "       0.00868799, 0.00947576, 0.01608926, 0.00793066, 0.00793564,\n",
       "       0.00818836, 0.00861026, 0.01047966, 0.01185386, 0.01086481,\n",
       "       0.01514868, 0.00952762, 0.00824822, 0.01088404, 0.01122552,\n",
       "       0.01002449, 0.01075633, 0.02398562, 0.02278672, 0.        ,\n",
       "       0.01897847, 0.01266834, 0.0370352 , 0.00582737, 0.00611322,\n",
       "       0.        ], dtype=float32)"
      ]
     },
     "execution_count": 15,
     "metadata": {},
     "output_type": "execute_result"
    }
   ],
   "source": [
    "feature_importances = clf.feature_importances_\n",
    "feature_importances"
   ]
  },
  {
   "cell_type": "code",
   "execution_count": 16,
   "metadata": {},
   "outputs": [
    {
     "data": {
      "text/plain": [
       "Index(['app_install_ever_install_app_30d', 'app_install_Card_App_num_30d',\n",
       "       'app_install_Casino_App_num_30d', 'app_install_ever_install_ty_app_30d',\n",
       "       'app_install_l6_num_30d'],\n",
       "      dtype='object')"
      ]
     },
     "execution_count": 16,
     "metadata": {},
     "output_type": "execute_result"
    }
   ],
   "source": [
    "feature_index = np.where(feature_importances<0.001)[0]\n",
    "train_X.columns[feature_index]"
   ]
  },
  {
   "cell_type": "code",
   "execution_count": null,
   "metadata": {},
   "outputs": [],
   "source": []
  },
  {
   "cell_type": "code",
   "execution_count": null,
   "metadata": {},
   "outputs": [],
   "source": [
    "score_Y=clf.predict_proba(test_X)[:,1]\n",
    "fpr,tpr,_=roc_curve(test_Y.ravel(),score_Y)\n",
    "print(\"ks:\",max(tpr-fpr)) #ks\n",
    "print(\"auc:\",roc_auc_score(test_Y,score_Y))"
   ]
  },
  {
   "cell_type": "code",
   "execution_count": null,
   "metadata": {},
   "outputs": [],
   "source": [
    "plot_bin_psi(clf.predict_proba(train_X)[:,1],clf.predict_proba(test_X)[:,1],step=0.1)"
   ]
  },
  {
   "cell_type": "code",
   "execution_count": null,
   "metadata": {},
   "outputs": [],
   "source": [
    "test_predicted = test_data[['uid']]\n",
    "test_predicted.loc[:,'label'] = test_data.late_days\n",
    "test_predicted.loc[:,'pred_prob'] = np.round(score_Y,4)"
   ]
  },
  {
   "cell_type": "code",
   "execution_count": null,
   "metadata": {},
   "outputs": [],
   "source": [
    "plotbar(test_predicted)"
   ]
  },
  {
   "cell_type": "code",
   "execution_count": null,
   "metadata": {
    "scrolled": false
   },
   "outputs": [],
   "source": [
    "ks(data=test_predicted,target='label', prob='pred_prob',n=10)[0]"
   ]
  },
  {
   "cell_type": "code",
   "execution_count": null,
   "metadata": {},
   "outputs": [],
   "source": [
    "ks(data=test_predicted,target='label', prob='pred_prob',n=10)[1]"
   ]
  },
  {
   "cell_type": "code",
   "execution_count": null,
   "metadata": {},
   "outputs": [],
   "source": []
  },
  {
   "cell_type": "code",
   "execution_count": null,
   "metadata": {},
   "outputs": [],
   "source": [
    "#############################################################################    CAL KS,LIFT\n",
    "import matplotlib.pyplot as plt\n",
    "def ks(data=None,target=None, prob=None, n=10):\n",
    "    data['target0'] = 1 - data[target]\n",
    "    data['bucket'] = pd.qcut(data[prob], n)\n",
    "    grouped = data.groupby('bucket', as_index = False)\n",
    "    kstable = pd.DataFrame()\n",
    "    ## 每一箱的概率区间\n",
    "    kstable['min_prob'] = np.round(grouped.min()[prob],4)\n",
    "    kstable['max_prob'] = np.round(grouped.max()[prob],4)\n",
    "    ## 每一箱的 坏样本数，好样本数，样本数\n",
    "    kstable['bad_cnt']   = grouped.sum()[target]\n",
    "    kstable['good_cnt'] = grouped.sum()['target0']\n",
    "    kstable['sample_cnt']=kstable['bad_cnt'] + kstable['good_cnt']\n",
    "    kstable = kstable.sort_values(by=\"min_prob\", ascending=False).reset_index(drop = True)    \n",
    "    ## 每一箱的坏样本占所有坏样本的比例，每一箱的好样本占所有好样本的比例\n",
    "    kstable['actual_bad_ratio'] = (kstable.bad_cnt / data[target].sum()).apply('{0:.2%}'.format)\n",
    "    kstable['actual_good_ratio'] = (kstable.good_cnt / data['target0'].sum()).apply('{0:.2%}'.format)    \n",
    "    ## 每一箱的累积好坏样本\n",
    "    kstable['cum_bad_cnt']=kstable.bad_cnt.cumsum()\n",
    "    kstable['cum_good_cnt']=kstable.good_cnt.cumsum()\n",
    "    kstable['cum_sample_cnt']=kstable.sample_cnt.cumsum()    \n",
    "    ## 每一箱的坏样本占所有坏样本的比例的累积，每一箱的好样本占所有好样本的比例的累积,  每一箱的样本占所有样本的比例的累积\n",
    "    kstable['cum_bad_ratio']=np.round((kstable.bad_cnt / data[target].sum()).cumsum(),4)\n",
    "    kstable['cum_good_ratio']=np.round((kstable.good_cnt / data['target0'].sum()).cumsum(),4)\n",
    "    kstable['cum_total_ratio'] = np.round((kstable.sample_cnt / data[target].shape[0]).cumsum(),4)\n",
    "    kstable['KS'] = np.round(kstable['cum_bad_ratio']-kstable['cum_good_ratio'], 4)\n",
    "    \n",
    "    ratio_ones = kstable['bad_cnt'].sum() / kstable['sample_cnt'].sum()    #原始坏样本的比例\n",
    "    kstable['LIFT'] = np.round(kstable['cum_bad_cnt']/kstable['cum_sample_cnt']/ratio_ones,3) \n",
    "    #Formating\n",
    "#     kstable['cum_bad_ratio']= kstable['cum_bad_ratio'].apply('{0:.2%}'.format)\n",
    "#     kstable['cum_good_ratio']= kstable['cum_good_ratio'].apply('{0:.2%}'.format)      \n",
    "    kstable['pred_interval']='(' + kstable['min_prob'].map(lambda x:'%.4f' % x) + ',' + kstable['max_prob'].map(lambda x:'%.4f' % x) +']' \n",
    "    \n",
    "    #Display KS\n",
    "    print(\"KS is \" + str(max(kstable['KS'])))\n",
    "    return(kstable[['pred_interval','sample_cnt','bad_cnt','actual_bad_ratio','cum_bad_cnt','cum_bad_ratio','KS']],\n",
    "          kstable[['pred_interval','cum_bad_ratio','cum_total_ratio','LIFT']])\n",
    "\n",
    "#############################################################################    PLOT KS\n",
    "import matplotlib.pyplot as plt\n",
    "def PlotKS(preds, labels, n, asc):    # preds is score: asc=1    # preds is prob: asc=0\n",
    "    pred = preds  # 预测值\n",
    "    bad = labels  # 取1为bad, 0为good\n",
    "    ksds = pd.DataFrame({'bad': bad, 'pred': pred})\n",
    "    ksds['good'] = 1 - ksds.bad\n",
    "    \n",
    "    if asc == 1:ksds1 = ksds.sort_values(by=['pred', 'bad'], ascending=[True, True])\n",
    "    elif asc == 0:ksds1 = ksds.sort_values(by=['pred', 'bad'], ascending=[False, True])\n",
    "    ksds1.index = range(len(ksds1.pred))\n",
    "    ksds1['cumsum_good1'] = 1.0*ksds1.good.cumsum()/sum(ksds1.good)\n",
    "    ksds1['cumsum_bad1'] = 1.0*ksds1.bad.cumsum()/sum(ksds1.bad)\n",
    "    \n",
    "    if asc == 1:ksds2 = ksds.sort_values(by=['pred', 'bad'], ascending=[True, False])\n",
    "    elif asc == 0:ksds2 = ksds.sort_values(by=['pred', 'bad'], ascending=[False, False])\n",
    "    ksds2.index = range(len(ksds2.pred))\n",
    "    ksds2['cumsum_good2'] = 1.0*ksds2.good.cumsum()/sum(ksds2.good)\n",
    "    ksds2['cumsum_bad2'] = 1.0*ksds2.bad.cumsum()/sum(ksds2.bad)\n",
    "    \n",
    "    # ksds1 ksds2 -> average\n",
    "    ksds = ksds1[['cumsum_good1', 'cumsum_bad1']]\n",
    "    ksds['cumsum_good2'] = ksds2['cumsum_good2']\n",
    "    ksds['cumsum_bad2'] = ksds2['cumsum_bad2']\n",
    "    ksds['cumsum_good'] = (ksds['cumsum_good1'] + ksds['cumsum_good2'])/2\n",
    "    ksds['cumsum_bad'] = (ksds['cumsum_bad1'] + ksds['cumsum_bad2'])/2\n",
    "    \n",
    "    # ks\n",
    "    ksds['ks'] = ksds['cumsum_bad'] - ksds['cumsum_good']\n",
    "    ksds['tile0'] = range(1, len(ksds.ks) + 1)\n",
    "    ksds['tile'] = 1.0*ksds['tile0']/len(ksds['tile0'])\n",
    "    \n",
    "    qe = list(np.arange(0, 1, 1.0/n))\n",
    "    qe.append(1)\n",
    "    qe = qe[1:]\n",
    "    \n",
    "    ks_index = pd.Series(ksds.index)\n",
    "    ks_index = ks_index.quantile(q = qe)\n",
    "    ks_index = np.ceil(ks_index).astype(int)\n",
    "    ks_index = list(ks_index)\n",
    "    \n",
    "    ksds = ksds.loc[ks_index]\n",
    "    ksds = ksds[['tile', 'cumsum_good', 'cumsum_bad', 'ks']]\n",
    "    ksds0 = np.array([[0, 0, 0, 0]])\n",
    "    ksds = np.concatenate([ksds0, ksds], axis=0)\n",
    "    ksds = pd.DataFrame(ksds, columns=['tile', 'cumsum_good', 'cumsum_bad', 'ks'])\n",
    "    \n",
    "    ks_value = ksds.ks.max()\n",
    "    ks_pop = ksds.tile[ksds.ks.idxmax()]\n",
    "    print ('ks_value is ' + str(np.round(ks_value, 4)) + ' at pop = ' + str(np.round(ks_pop, 4)))\n",
    "    \n",
    "    # chart\n",
    "    plt.rcParams['figure.facecolor'] = 'white'\n",
    "    plt.rcParams['axes.facecolor'] = 'white'\n",
    "    plt.plot(ksds.tile, ksds.cumsum_good, label='cum_good',color='blue', linestyle='-', linewidth=2)\n",
    "    plt.plot(ksds.tile, ksds.cumsum_bad, label='cum_bad',color='red', linestyle='-', linewidth=2)                        \n",
    "    plt.plot(ksds.tile, ksds.ks, label='ks',color='green', linestyle='-', linewidth=2)                       \n",
    "    plt.axvline(ks_pop, color='gray', linestyle='--')\n",
    "    plt.axhline(ks_value, color='green', linestyle='--')\n",
    "    plt.axhline(ksds.loc[ksds.ks.idxmax(), 'cumsum_good'], color='blue', linestyle='--')\n",
    "    plt.axhline(ksds.loc[ksds.ks.idxmax(),'cumsum_bad'], color='red', linestyle='--')\n",
    "    plt.title('KS=%s ' %np.round(ks_value, 4) + 'at Pop=%s' %np.round(ks_pop, 4), fontsize=15)\n",
    "    return ksds\n",
    "\n",
    "def cal_psi(actual, predict, bins=10):\n",
    "    actual_min = actual.min()   \n",
    "    actual_max = actual.max()   \n",
    "    binlen = (actual_max - actual_min) / bins    \n",
    "    cuts = [actual_min + i * binlen for i in range(1, bins)] \n",
    "    cuts.insert(0, -float(\"inf\"))\n",
    "    cuts.append(float(\"inf\"))\n",
    "    actual_cuts = np.histogram(actual, bins=cuts) \n",
    "    predict_cuts = np.histogram(predict, bins=cuts)  \n",
    "    actual_df = pd.DataFrame(actual_cuts[0],columns=['actual'])\n",
    "    predict_df = pd.DataFrame(predict_cuts[0], columns=['predict'])\n",
    "    psi_df = pd.merge(actual_df,predict_df,right_index=True,left_index=True)   \n",
    "    psi_df['actual_rate'] = (psi_df['actual'] + 1) / psi_df['actual'].sum() \n",
    "    psi_df['predict_rate'] = (psi_df['predict'] + 1) / psi_df['predict'].sum()\n",
    "    psi_df['psi'] = (psi_df['actual_rate'] - psi_df['predict_rate']) * np.log(\n",
    "        psi_df['actual_rate'] / psi_df['predict_rate'])\n",
    "    psi = psi_df['psi'].sum()\n",
    "    return psi, psi_df\n",
    "\n",
    "def plotbar(data=None,target='label', prob='pred_prob', index=[0,0.1,0.2,0.3,0.4,0.5,0.6,0.7,0.8,0.9,1]):\n",
    "    d1 = pd.DataFrame({'x':data[prob],'y':data[target],'bucket':pd.cut(data[prob], index)})\n",
    "    d2 = d1.groupby('bucket',as_index=True)  # 按照分箱结果进行分组聚合\n",
    "    d3 = pd.DataFrame(d2.x.min(),columns=['min_bin']) \n",
    "    d3['min_bin'] = d2.x.min()  # 箱体的左边界\n",
    "    d3['max_bin'] = d2.x.max()  # 箱体的右边界\n",
    "    d3['bad'] = d2.y.sum()  # 每个箱体中坏样本的数量\n",
    "    d3['good'] = d2.y.count() - d2.y.sum() # 每个箱体中好样本的数量\n",
    "    d3['total'] = d2.y.count() # 每个箱体的总样本数\n",
    "    d3.index = index[1:]\n",
    "    d3[['bad','good']].plot.bar(stacked=True,color=['darkorange','royalblue'],position=1,width=1,legend=False,figsize=(8,5))\n",
    "    \n",
    "##    CAL each bin's psi\n",
    "import matplotlib\n",
    "def plot_bin_psi(train_pred,test_pred,step=0.01):\n",
    "    t1 = pd.DataFrame()\n",
    "    t1['predicted'] = train_pred\n",
    "    t1.sort_values('predicted',ascending=False,inplace=True)  ## 按预测概率排序\n",
    "    t2 = pd.DataFrame()\n",
    "    t2['predicted'] = test_pred\n",
    "    t2.sort_values('predicted',ascending=False,inplace=True)  ## 按预测概率排序    \n",
    "    x_val = np.arange(step,1+step,step)\n",
    "    psi=[]\n",
    "    train_ratio=[]\n",
    "    test_ratio=[]\n",
    "    last_end_1=0\n",
    "    last_end_2=0\n",
    "    for x in x_val:\n",
    "        num_data_1 = int(np.ceil(x*len(t1))) \n",
    "        data_here_1 = t1.iloc[last_end_1:num_data_1,:] \n",
    "        train_ratio.append(data_here_1.shape[0]/len(train_pred))\n",
    "        num_data_2 = int(np.ceil(x*len(t2))) \n",
    "        data_here_2 = t2.iloc[last_end_2:num_data_2,:]\n",
    "        test_ratio.append(data_here_2.shape[0]/len(test_pred))\n",
    "        psi.append(np.round(cal_psi(data_here_1['predicted'].astype(np.float),data_here_2['predicted'].astype(np.float),bins=10)[0],3))\n",
    "        last_end_1=num_data_1\n",
    "        last_end_2=num_data_2\n",
    "        \n",
    "    cal_lift = pd.DataFrame(list(zip(train_ratio,test_ratio,psi)),columns=['train样本量占比','test样本量占比','每一箱的psi'])\n",
    "    print(cal_lift)"
   ]
  },
  {
   "cell_type": "code",
   "execution_count": null,
   "metadata": {},
   "outputs": [],
   "source": [
    "# PlotKS(test_predicted['pred_prob'], test_predicted['label'], n=10000, asc=0)   #  画KS图\n",
    "# ks(data=test_predicted,target='label', prob='pred_prob',n=10)[0]   #KS表格，直接填\n",
    "# ks(data=test_predicted,target='label', prob='pred_prob',n=10)[1]   #lift表格，拿来画图"
   ]
  },
  {
   "cell_type": "code",
   "execution_count": null,
   "metadata": {},
   "outputs": [],
   "source": []
  }
 ],
 "metadata": {
  "kernelspec": {
   "display_name": "Python 3",
   "language": "python",
   "name": "python3"
  },
  "language_info": {
   "codemirror_mode": {
    "name": "ipython",
    "version": 3
   },
   "file_extension": ".py",
   "mimetype": "text/x-python",
   "name": "python",
   "nbconvert_exporter": "python",
   "pygments_lexer": "ipython3",
   "version": "3.6.4"
  }
 },
 "nbformat": 4,
 "nbformat_minor": 2
}
