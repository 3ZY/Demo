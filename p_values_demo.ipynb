{
 "cells": [
  {
   "cell_type": "code",
   "execution_count": 1,
   "metadata": {},
   "outputs": [],
   "source": [
    "import pandas as pd\n",
    "import numpy as np\n"
   ]
  },
  {
   "cell_type": "code",
   "execution_count": 2,
   "metadata": {},
   "outputs": [],
   "source": [
    "from sklearn.feature_selection import f_regression\n",
    "def calPvalues(data,label='label',columns=[]):\n",
    "    \"\"\"\n",
    "    param:\n",
    "        data: dataFrame\n",
    "        label: y 列名\n",
    "        columns: X 列名\n",
    "    return:\n",
    "        dataFrame\n",
    "    \"\"\"\n",
    "    if len(columns) == 0:\n",
    "        columns = data.columns.to_list()\n",
    "        columns.remove(label)\n",
    "    F_score,p_value = f_regression(data[columns], df[label])\n",
    "    return pd.DataFrame.from_dict( dict(zip(columns,p_value)),orient='index',columns=['p_value'])"
   ]
  },
  {
   "cell_type": "code",
   "execution_count": 3,
   "metadata": {},
   "outputs": [],
   "source": [
    "df = pd.read_csv('data/data.csv')\n",
    "df.fillna(df.mean(),inplace=True) #不允许有null值"
   ]
  },
  {
   "cell_type": "code",
   "execution_count": 4,
   "metadata": {},
   "outputs": [],
   "source": [
    "df_p_values = calPvalues(df)"
   ]
  },
  {
   "cell_type": "code",
   "execution_count": 5,
   "metadata": {},
   "outputs": [
    {
     "data": {
      "text/html": [
       "<div>\n",
       "<style scoped>\n",
       "    .dataframe tbody tr th:only-of-type {\n",
       "        vertical-align: middle;\n",
       "    }\n",
       "\n",
       "    .dataframe tbody tr th {\n",
       "        vertical-align: top;\n",
       "    }\n",
       "\n",
       "    .dataframe thead th {\n",
       "        text-align: right;\n",
       "    }\n",
       "</style>\n",
       "<table border=\"1\" class=\"dataframe\">\n",
       "  <thead>\n",
       "    <tr style=\"text-align: right;\">\n",
       "      <th></th>\n",
       "      <th>p_value</th>\n",
       "    </tr>\n",
       "  </thead>\n",
       "  <tbody>\n",
       "    <tr>\n",
       "      <td>uid</td>\n",
       "      <td>0.000000e+00</td>\n",
       "    </tr>\n",
       "    <tr>\n",
       "      <td>d1</td>\n",
       "      <td>1.322516e-135</td>\n",
       "    </tr>\n",
       "    <tr>\n",
       "      <td>d2</td>\n",
       "      <td>9.881313e-324</td>\n",
       "    </tr>\n",
       "    <tr>\n",
       "      <td>d3</td>\n",
       "      <td>7.732315e-75</td>\n",
       "    </tr>\n",
       "    <tr>\n",
       "      <td>d4</td>\n",
       "      <td>1.299356e-67</td>\n",
       "    </tr>\n",
       "    <tr>\n",
       "      <td>...</td>\n",
       "      <td>...</td>\n",
       "    </tr>\n",
       "    <tr>\n",
       "      <td>c113</td>\n",
       "      <td>0.000000e+00</td>\n",
       "    </tr>\n",
       "    <tr>\n",
       "      <td>c114</td>\n",
       "      <td>2.885314e-92</td>\n",
       "    </tr>\n",
       "    <tr>\n",
       "      <td>c115</td>\n",
       "      <td>2.211467e-50</td>\n",
       "    </tr>\n",
       "    <tr>\n",
       "      <td>c116</td>\n",
       "      <td>2.635718e-104</td>\n",
       "    </tr>\n",
       "    <tr>\n",
       "      <td>prob</td>\n",
       "      <td>0.000000e+00</td>\n",
       "    </tr>\n",
       "  </tbody>\n",
       "</table>\n",
       "<p>66 rows × 1 columns</p>\n",
       "</div>"
      ],
      "text/plain": [
       "            p_value\n",
       "uid    0.000000e+00\n",
       "d1    1.322516e-135\n",
       "d2    9.881313e-324\n",
       "d3     7.732315e-75\n",
       "d4     1.299356e-67\n",
       "...             ...\n",
       "c113   0.000000e+00\n",
       "c114   2.885314e-92\n",
       "c115   2.211467e-50\n",
       "c116  2.635718e-104\n",
       "prob   0.000000e+00\n",
       "\n",
       "[66 rows x 1 columns]"
      ]
     },
     "execution_count": 5,
     "metadata": {},
     "output_type": "execute_result"
    }
   ],
   "source": [
    "df_p_values"
   ]
  },
  {
   "cell_type": "code",
   "execution_count": null,
   "metadata": {},
   "outputs": [],
   "source": []
  }
 ],
 "metadata": {
  "kernelspec": {
   "display_name": "Python 3",
   "language": "python",
   "name": "python3"
  },
  "language_info": {
   "codemirror_mode": {
    "name": "ipython",
    "version": 3
   },
   "file_extension": ".py",
   "mimetype": "text/x-python",
   "name": "python",
   "nbconvert_exporter": "python",
   "pygments_lexer": "ipython3",
   "version": "3.7.3"
  }
 },
 "nbformat": 4,
 "nbformat_minor": 2
}
