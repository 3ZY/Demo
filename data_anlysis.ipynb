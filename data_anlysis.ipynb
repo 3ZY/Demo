{
 "cells": [
  {
   "cell_type": "code",
   "execution_count": 1,
   "metadata": {},
   "outputs": [],
   "source": [
    "import re,json\n",
    "import pandas as pd\n",
    "import pymysql,gc\n",
    "import matplotlib.pyplot as plt"
   ]
  },
  {
   "cell_type": "code",
   "execution_count": 2,
   "metadata": {},
   "outputs": [],
   "source": [
    "df = pd.read_csv('dana_data.csv')\n",
    "df.loc[df.late_days<0,'late_days'] = 0\n",
    "df = df.loc[~df.late_days.isna()]"
   ]
  },
  {
   "cell_type": "code",
   "execution_count": 3,
   "metadata": {},
   "outputs": [
    {
     "data": {
      "text/html": [
       "<div>\n",
       "<style scoped>\n",
       "    .dataframe tbody tr th:only-of-type {\n",
       "        vertical-align: middle;\n",
       "    }\n",
       "\n",
       "    .dataframe tbody tr th {\n",
       "        vertical-align: top;\n",
       "    }\n",
       "\n",
       "    .dataframe thead th {\n",
       "        text-align: right;\n",
       "    }\n",
       "</style>\n",
       "<table border=\"1\" class=\"dataframe\">\n",
       "  <thead>\n",
       "    <tr style=\"text-align: right;\">\n",
       "      <th></th>\n",
       "      <th>aku_uid</th>\n",
       "      <th>sim_auth_phone_num</th>\n",
       "      <th>auth_is_emulator</th>\n",
       "      <th>auth_is_root</th>\n",
       "      <th>sim_auth_device_num</th>\n",
       "      <th>education_level_x</th>\n",
       "      <th>working_periods</th>\n",
       "      <th>occupation_x</th>\n",
       "      <th>if_ip_in_black</th>\n",
       "      <th>sim_related_idcard_danaid_cnt</th>\n",
       "      <th>...</th>\n",
       "      <th>features_incr_total_session</th>\n",
       "      <th>features_incr_total_action_rate</th>\n",
       "      <th>features_incr_total_page_action_rate</th>\n",
       "      <th>features_incr_avg_w9</th>\n",
       "      <th>features_incr_std_w9</th>\n",
       "      <th>features_incr_total_w2_15d</th>\n",
       "      <th>features_incr_total_w2_7d</th>\n",
       "      <th>features_incr_total_w2_3d</th>\n",
       "      <th>features_incr_total_w2_7d_div_15d</th>\n",
       "      <th>late_days</th>\n",
       "    </tr>\n",
       "  </thead>\n",
       "  <tbody>\n",
       "    <tr>\n",
       "      <th>0</th>\n",
       "      <td>22266562</td>\n",
       "      <td>1</td>\n",
       "      <td>0</td>\n",
       "      <td>0</td>\n",
       "      <td>1</td>\n",
       "      <td>4</td>\n",
       "      <td>3</td>\n",
       "      <td>3</td>\n",
       "      <td>-1</td>\n",
       "      <td>1.0</td>\n",
       "      <td>...</td>\n",
       "      <td>0.0</td>\n",
       "      <td>0.0000</td>\n",
       "      <td>0.0000</td>\n",
       "      <td>0.000000</td>\n",
       "      <td>0.000000</td>\n",
       "      <td>0.0</td>\n",
       "      <td>0.0</td>\n",
       "      <td>0.0</td>\n",
       "      <td>0.0000</td>\n",
       "      <td>2.0</td>\n",
       "    </tr>\n",
       "    <tr>\n",
       "      <th>3</th>\n",
       "      <td>1295397</td>\n",
       "      <td>1</td>\n",
       "      <td>0</td>\n",
       "      <td>0</td>\n",
       "      <td>1</td>\n",
       "      <td>5</td>\n",
       "      <td>0</td>\n",
       "      <td>1</td>\n",
       "      <td>0</td>\n",
       "      <td>1.0</td>\n",
       "      <td>...</td>\n",
       "      <td>714.0</td>\n",
       "      <td>24.0587</td>\n",
       "      <td>22.8434</td>\n",
       "      <td>507675.190311</td>\n",
       "      <td>596111.311290</td>\n",
       "      <td>4764.0</td>\n",
       "      <td>1272.0</td>\n",
       "      <td>534.0</td>\n",
       "      <td>0.2669</td>\n",
       "      <td>0.0</td>\n",
       "    </tr>\n",
       "    <tr>\n",
       "      <th>4</th>\n",
       "      <td>11183062</td>\n",
       "      <td>1</td>\n",
       "      <td>0</td>\n",
       "      <td>0</td>\n",
       "      <td>1</td>\n",
       "      <td>1</td>\n",
       "      <td>0</td>\n",
       "      <td>1</td>\n",
       "      <td>0</td>\n",
       "      <td>1.0</td>\n",
       "      <td>...</td>\n",
       "      <td>0.0</td>\n",
       "      <td>0.0000</td>\n",
       "      <td>0.0000</td>\n",
       "      <td>0.000000</td>\n",
       "      <td>0.000000</td>\n",
       "      <td>0.0</td>\n",
       "      <td>0.0</td>\n",
       "      <td>0.0</td>\n",
       "      <td>0.0000</td>\n",
       "      <td>0.0</td>\n",
       "    </tr>\n",
       "    <tr>\n",
       "      <th>6</th>\n",
       "      <td>15242414</td>\n",
       "      <td>1</td>\n",
       "      <td>0</td>\n",
       "      <td>0</td>\n",
       "      <td>1</td>\n",
       "      <td>5</td>\n",
       "      <td>1</td>\n",
       "      <td>2</td>\n",
       "      <td>0</td>\n",
       "      <td>1.0</td>\n",
       "      <td>...</td>\n",
       "      <td>392.0</td>\n",
       "      <td>34.2494</td>\n",
       "      <td>28.0687</td>\n",
       "      <td>386927.061856</td>\n",
       "      <td>504929.181400</td>\n",
       "      <td>1050.0</td>\n",
       "      <td>364.0</td>\n",
       "      <td>84.0</td>\n",
       "      <td>0.3463</td>\n",
       "      <td>0.0</td>\n",
       "    </tr>\n",
       "    <tr>\n",
       "      <th>9</th>\n",
       "      <td>14162810</td>\n",
       "      <td>1</td>\n",
       "      <td>0</td>\n",
       "      <td>0</td>\n",
       "      <td>1</td>\n",
       "      <td>1</td>\n",
       "      <td>4</td>\n",
       "      <td>3</td>\n",
       "      <td>0</td>\n",
       "      <td>1.0</td>\n",
       "      <td>...</td>\n",
       "      <td>286.0</td>\n",
       "      <td>12.6829</td>\n",
       "      <td>14.6585</td>\n",
       "      <td>147614.483146</td>\n",
       "      <td>232926.283323</td>\n",
       "      <td>407.0</td>\n",
       "      <td>64.0</td>\n",
       "      <td>34.0</td>\n",
       "      <td>0.1569</td>\n",
       "      <td>0.0</td>\n",
       "    </tr>\n",
       "  </tbody>\n",
       "</table>\n",
       "<p>5 rows × 57 columns</p>\n",
       "</div>"
      ],
      "text/plain": [
       "    aku_uid  sim_auth_phone_num  auth_is_emulator  auth_is_root  \\\n",
       "0  22266562                   1                 0             0   \n",
       "3   1295397                   1                 0             0   \n",
       "4  11183062                   1                 0             0   \n",
       "6  15242414                   1                 0             0   \n",
       "9  14162810                   1                 0             0   \n",
       "\n",
       "   sim_auth_device_num  education_level_x  working_periods  occupation_x  \\\n",
       "0                    1                  4                3             3   \n",
       "3                    1                  5                0             1   \n",
       "4                    1                  1                0             1   \n",
       "6                    1                  5                1             2   \n",
       "9                    1                  1                4             3   \n",
       "\n",
       "   if_ip_in_black  sim_related_idcard_danaid_cnt  ...  \\\n",
       "0              -1                            1.0  ...   \n",
       "3               0                            1.0  ...   \n",
       "4               0                            1.0  ...   \n",
       "6               0                            1.0  ...   \n",
       "9               0                            1.0  ...   \n",
       "\n",
       "   features_incr_total_session  features_incr_total_action_rate  \\\n",
       "0                          0.0                           0.0000   \n",
       "3                        714.0                          24.0587   \n",
       "4                          0.0                           0.0000   \n",
       "6                        392.0                          34.2494   \n",
       "9                        286.0                          12.6829   \n",
       "\n",
       "   features_incr_total_page_action_rate  features_incr_avg_w9  \\\n",
       "0                                0.0000              0.000000   \n",
       "3                               22.8434         507675.190311   \n",
       "4                                0.0000              0.000000   \n",
       "6                               28.0687         386927.061856   \n",
       "9                               14.6585         147614.483146   \n",
       "\n",
       "   features_incr_std_w9  features_incr_total_w2_15d  \\\n",
       "0              0.000000                         0.0   \n",
       "3         596111.311290                      4764.0   \n",
       "4              0.000000                         0.0   \n",
       "6         504929.181400                      1050.0   \n",
       "9         232926.283323                       407.0   \n",
       "\n",
       "   features_incr_total_w2_7d  features_incr_total_w2_3d  \\\n",
       "0                        0.0                        0.0   \n",
       "3                     1272.0                      534.0   \n",
       "4                        0.0                        0.0   \n",
       "6                      364.0                       84.0   \n",
       "9                       64.0                       34.0   \n",
       "\n",
       "   features_incr_total_w2_7d_div_15d  late_days  \n",
       "0                             0.0000        2.0  \n",
       "3                             0.2669        0.0  \n",
       "4                             0.0000        0.0  \n",
       "6                             0.3463        0.0  \n",
       "9                             0.1569        0.0  \n",
       "\n",
       "[5 rows x 57 columns]"
      ]
     },
     "execution_count": 3,
     "metadata": {},
     "output_type": "execute_result"
    }
   ],
   "source": [
    "df.head()"
   ]
  },
  {
   "cell_type": "code",
   "execution_count": 4,
   "metadata": {},
   "outputs": [
    {
     "data": {
      "text/plain": [
       "<matplotlib.axes._subplots.AxesSubplot at 0x7f199386f5c0>"
      ]
     },
     "execution_count": 4,
     "metadata": {},
     "output_type": "execute_result"
    },
    {
     "data": {
      "image/png": "[encoded data removed]",
      "text/plain": [
       "<Figure size 720x432 with 1 Axes>"
      ]
     },
     "metadata": {
      "needs_background": "light"
     },
     "output_type": "display_data"
    }
   ],
   "source": [
    "df[['aku_uid','late_days']].groupby('late_days').count().plot(kind='line',\n",
    "                                                              figsize=(10,6),\n",
    "                                                              xticks=[ i for i in range(-10,250,10)],\n",
    "                                                              fontsize=10)"
   ]
  },
  {
   "cell_type": "code",
   "execution_count": 5,
   "metadata": {},
   "outputs": [],
   "source": [
    "x = [ i for i in range(0,91)]\n",
    "y = []\n",
    "for i in x:\n",
    "    y.append(sum(df.late_days>=i))"
   ]
  },
  {
   "cell_type": "code",
   "execution_count": 10,
   "metadata": {},
   "outputs": [],
   "source": [
    "tmp = pd.DataFrame({'late_days':x,'bill_cnt':y})"
   ]
  },
  {
   "cell_type": "code",
   "execution_count": 11,
   "metadata": {},
   "outputs": [
    {
     "data": {
      "text/plain": [
       "<matplotlib.axes._subplots.AxesSubplot at 0x7f199393d940>"
      ]
     },
     "execution_count": 11,
     "metadata": {},
     "output_type": "execute_result"
    },
    {
     "data": {
      "image/png": "[encoded data removed]",
      "text/plain": [
       "<Figure size 720x432 with 1 Axes>"
      ]
     },
     "metadata": {
      "needs_background": "light"
     },
     "output_type": "display_data"
    }
   ],
   "source": [
    "tmp.plot(x='late_days',y='bill_cnt',kind='line',figsize=(10,6),xticks=[ i for i in range(0,90,5)],fontsize=10)"
   ]
  },
  {
   "cell_type": "code",
   "execution_count": null,
   "metadata": {},
   "outputs": [],
   "source": []
  }
 ],
 "metadata": {
  "kernelspec": {
   "display_name": "Python 3",
   "language": "python",
   "name": "python3"
  },
  "language_info": {
   "codemirror_mode": {
    "name": "ipython",
    "version": 3
   },
   "file_extension": ".py",
   "mimetype": "text/x-python",
   "name": "python",
   "nbconvert_exporter": "python",
   "pygments_lexer": "ipython3",
   "version": "3.6.4"
  }
 },
 "nbformat": 4,
 "nbformat_minor": 2
}
